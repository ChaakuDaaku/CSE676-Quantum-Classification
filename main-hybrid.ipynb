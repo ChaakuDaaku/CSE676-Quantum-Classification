{
  "cells": [
    {
      "cell_type": "code",
      "execution_count": 1,
      "id": "mn0bH-FsVd-b",
      "metadata": {
        "colab": {
          "base_uri": "https://localhost:8080/"
        },
        "id": "mn0bH-FsVd-b",
        "outputId": "f6db874a-8e82-4691-cd7b-5c535003b39b"
      },
      "outputs": [
        {
          "name": "stdout",
          "output_type": "stream",
          "text": [
            "Requirement already satisfied: pennylane in /usr/local/lib/python3.7/dist-packages (0.23.1)\n",
            "Requirement already satisfied: cachetools in /usr/local/lib/python3.7/dist-packages (from pennylane) (4.2.4)\n",
            "Requirement already satisfied: autograd in /usr/local/lib/python3.7/dist-packages (from pennylane) (1.4)\n",
            "Requirement already satisfied: semantic-version==2.6 in /usr/local/lib/python3.7/dist-packages (from pennylane) (2.6.0)\n",
            "Requirement already satisfied: networkx in /usr/local/lib/python3.7/dist-packages (from pennylane) (2.6.3)\n",
            "Requirement already satisfied: toml in /usr/local/lib/python3.7/dist-packages (from pennylane) (0.10.2)\n",
            "Requirement already satisfied: numpy in /usr/local/lib/python3.7/dist-packages (from pennylane) (1.21.6)\n",
            "Requirement already satisfied: appdirs in /usr/local/lib/python3.7/dist-packages (from pennylane) (1.4.4)\n",
            "Requirement already satisfied: scipy in /usr/local/lib/python3.7/dist-packages (from pennylane) (1.4.1)\n",
            "Requirement already satisfied: pennylane-lightning>=0.23 in /usr/local/lib/python3.7/dist-packages (from pennylane) (0.23.0)\n",
            "Requirement already satisfied: retworkx in /usr/local/lib/python3.7/dist-packages (from pennylane) (0.11.0)\n",
            "Requirement already satisfied: autoray>=0.3.1 in /usr/local/lib/python3.7/dist-packages (from pennylane) (0.3.1)\n",
            "Requirement already satisfied: ninja in /usr/local/lib/python3.7/dist-packages (from pennylane-lightning>=0.23->pennylane) (1.10.2.3)\n",
            "Requirement already satisfied: future>=0.15.2 in /usr/local/lib/python3.7/dist-packages (from autograd->pennylane) (0.16.0)\n"
          ]
        }
      ],
      "source": [
        "!pip install pennylane"
      ]
    },
    {
      "cell_type": "code",
      "execution_count": 2,
      "id": "3c8b5eba",
      "metadata": {
        "id": "3c8b5eba",
        "scrolled": true
      },
      "outputs": [],
      "source": [
        "import time\n",
        "import os\n",
        "import copy\n",
        "import random\n",
        "import re\n",
        "import numpy\n",
        "import pandas as pd\n",
        "\n",
        "#PyTorch\n",
        "import torch\n",
        "import torch.nn as nn\n",
        "import torch.optim as optim\n",
        "from torch.optim import lr_scheduler\n",
        "import torchvision\n",
        "from torchvision import datasets, transforms\n",
        "from torchsummary import summary\n",
        "\n",
        "#Pennylane\n",
        "import pennylane as qml\n",
        "from pennylane import numpy as np\n",
        "\n",
        "np.random.seed(42)\n",
        "\n",
        "import cv2\n",
        "from PIL import Image\n",
        "import matplotlib.pyplot as plt\n",
        "\n",
        "os.environ[\"CUDA_LAUNCH_BLOCKING\"] = \"1\"\n",
        "\n",
        "#OpenMP: number of parallel threads\n",
        "os.environ[\"OMP_NUM_THREADS\"] = \"1\""
      ]
    },
    {
      "cell_type": "code",
      "execution_count": 4,
      "id": "a3360a66",
      "metadata": {
        "code_folding": [],
        "id": "a3360a66"
      },
      "outputs": [],
      "source": [
        "data_dir = './dataset'"
      ]
    },
    {
      "cell_type": "code",
      "execution_count": 5,
      "id": "ad0e29cd",
      "metadata": {
        "id": "ad0e29cd"
      },
      "outputs": [],
      "source": [
        "n_qubits = 6                # Number of qubits\n",
        "step = 0.0025               # Learning rate\n",
        "batch_size = 50             # Number of samples for each training step\n",
        "num_epochs = 33             # Number of training epochs\n",
        "q_depth = 6                 # Depth of the quantum circuit (number of variational layers)\n",
        "gamma_lr_scheduler = 0.1    # Learning rate reduction applied every 10 epochs.\n",
        "q_delta = 0.01              # Initial spread of random quantum weights\n",
        "start_time = time.time()    # Start of the computation timer"
      ]
    },
    {
      "cell_type": "code",
      "execution_count": 6,
      "id": "e820f7f6",
      "metadata": {
        "id": "e820f7f6"
      },
      "outputs": [],
      "source": [
        "dev = qml.device(\"default.qubit\", wires = n_qubits)"
      ]
    },
    {
      "cell_type": "code",
      "execution_count": 7,
      "id": "4d4fb053",
      "metadata": {
        "colab": {
          "base_uri": "https://localhost:8080/"
        },
        "id": "4d4fb053",
        "outputId": "79dbe789-0d5d-438c-a30a-3b693fc08349"
      },
      "outputs": [
        {
          "data": {
            "text/plain": [
              "device(type='cuda', index=0)"
            ]
          },
          "execution_count": 7,
          "metadata": {},
          "output_type": "execute_result"
        }
      ],
      "source": [
        "device = torch.device(\"cuda:0\" if torch.cuda.is_available() else \"cpu\")\n",
        "device\n",
        "# device = torch.device(\"cpu\")"
      ]
    },
    {
      "cell_type": "code",
      "execution_count": 8,
      "id": "d6b29015",
      "metadata": {
        "id": "d6b29015"
      },
      "outputs": [],
      "source": [
        "data_transforms = {\n",
        "    \"train\" : transforms.Compose(\n",
        "    [\n",
        "        transforms.RandomHorizontalFlip(),\n",
        "        transforms.Resize(256),\n",
        "        transforms.CenterCrop(224),\n",
        "        transforms.ToTensor(),\n",
        "        transforms.Normalize([0.485, 0.456, 0.406], [0.229, 0.224, 0.225])\n",
        "    ]),\n",
        "    \"val\" : transforms.Compose(\n",
        "    [\n",
        "        transforms.Resize(256),\n",
        "        transforms.CenterCrop(224),\n",
        "        transforms.ToTensor(),\n",
        "        transforms.Normalize([0.485, 0.456, 0.406], [0.229, 0.224, 0.225])\n",
        "    ]),\n",
        "    \"test\" : transforms.Compose(\n",
        "    [\n",
        "        transforms.Resize(256),\n",
        "        transforms.CenterCrop(224),\n",
        "        transforms.ToTensor(),\n",
        "        transforms.Normalize([0.485, 0.456, 0.406], [0.229, 0.224, 0.225])\n",
        "    ])\n",
        "}"
      ]
    },
    {
      "cell_type": "code",
      "execution_count": 9,
      "id": "269ca1c9",
      "metadata": {
        "id": "269ca1c9"
      },
      "outputs": [],
      "source": [
        "image_datasets = {\n",
        "    x if x == \"train\" else \"validation\": datasets.ImageFolder(\n",
        "        os.path.join(data_dir, x), data_transforms[x]\n",
        "    )\n",
        "    for x in [\"train\", \"val\"]\n",
        "}\n",
        "dataset_sizes = {x:len(image_datasets[x]) for x in [\"train\", \"validation\"]}\n",
        "class_names = image_datasets[\"train\"].classes"
      ]
    },
    {
      "cell_type": "code",
      "execution_count": 10,
      "id": "34a9972a",
      "metadata": {
        "id": "34a9972a"
      },
      "outputs": [],
      "source": [
        "dataloaders = {\n",
        "    x: torch.utils.data.DataLoader(\n",
        "        image_datasets[x], batch_size=batch_size, shuffle = True)\n",
        "    for x in [\"train\", \"validation\"]\n",
        "}\n",
        "\n",
        "def imshow(inp, title = None):\n",
        "    inp = inp.numpy().transpose((1, 2, 0))\n",
        "    mean = np.array([0.485, 0.456, 0.406])\n",
        "    std = np.array([0.229, 0.224, 0.225])\n",
        "    inp = std * inp + mean\n",
        "    inp = np.clip(inp, 0, 1)\n",
        "    plt.imshow(inp)\n",
        "    if title is not None:\n",
        "        plt.title(title)"
      ]
    },
    {
      "cell_type": "markdown",
      "id": "00735e12",
      "metadata": {
        "id": "00735e12"
      },
      "source": [
        "# Variational quantum circuit"
      ]
    },
    {
      "cell_type": "code",
      "execution_count": 11,
      "id": "1f332a42",
      "metadata": {
        "id": "1f332a42"
      },
      "outputs": [],
      "source": [
        "def H_layer(nqubits):\n",
        "    for idx in range(nqubits):\n",
        "        qml.Hadamard(wires=idx)\n",
        "    \n",
        "    \n",
        "def RY_layer(w):\n",
        "    for idx,element in enumerate(w):\n",
        "        qml.RY(element, wires=idx)\n",
        "        \n",
        "        \n",
        "def entangling_layer(nqubits):\n",
        "    for i in range(0, nqubits - 1, 2):  # Loop over even indices: i=0,2,...N-2\n",
        "        qml.CNOT(wires=[i, i + 1])\n",
        "    for i in range(1, nqubits - 1, 2):  # Loop over odd indices:  i=1,3,...N-3\n",
        "        qml.CNOT(wires=[i, i + 1])"
      ]
    },
    {
      "cell_type": "code",
      "execution_count": 12,
      "id": "35f1d54a",
      "metadata": {
        "id": "35f1d54a"
      },
      "outputs": [],
      "source": [
        "@qml.qnode(dev, interface=\"torch\")\n",
        "def quantum_net(q_input_features, q_weights_flat):\n",
        "    \"\"\"\n",
        "    The variational quantum circuit.\n",
        "    \"\"\"\n",
        "\n",
        "    # Reshape weights\n",
        "    q_weights = q_weights_flat.reshape(q_depth, n_qubits)\n",
        "\n",
        "    # Start from state |+> , unbiased w.r.t. |0> and |1>\n",
        "    H_layer(n_qubits)\n",
        "\n",
        "    # Embed features in the quantum node\n",
        "    RY_layer(q_input_features)\n",
        "\n",
        "    # Sequence of trainable variational layers\n",
        "    for k in range(q_depth):\n",
        "        entangling_layer(n_qubits)\n",
        "        RY_layer(q_weights[k])\n",
        "\n",
        "    # Expectation values in the Z basis\n",
        "    exp_vals = [qml.expval(qml.PauliZ(position)) for position in range(n_qubits)]\n",
        "    return tuple(exp_vals)"
      ]
    },
    {
      "cell_type": "code",
      "execution_count": 13,
      "id": "fbb8c6f9",
      "metadata": {
        "id": "fbb8c6f9"
      },
      "outputs": [],
      "source": [
        "class DressedQuantumNet(nn.Module):\n",
        "    \"\"\"\n",
        "    Torch module implementing the *dressed* quantum net.\n",
        "    \"\"\"\n",
        "\n",
        "    def __init__(self):\n",
        "        \"\"\"\n",
        "        Definition of the *dressed* layout.\n",
        "        \"\"\"\n",
        "\n",
        "        super().__init__()\n",
        "        self.pre_net = nn.Linear(512, n_qubits)\n",
        "        self.q_params = nn.Parameter(q_delta * torch.randn(q_depth * n_qubits))\n",
        "        self.post_net = nn.Linear(n_qubits, 8)\n",
        "\n",
        "    def forward(self, input_features):\n",
        "        \"\"\"\n",
        "        Defining how tensors are supposed to move through the *dressed* quantum\n",
        "        net.\n",
        "        \"\"\"\n",
        "\n",
        "        # obtain the input features for the quantum circuit\n",
        "        # by reducing the feature dimension from 512 to 4\n",
        "        pre_out = self.pre_net(input_features)\n",
        "        q_in = torch.tanh(pre_out) * np.pi / 2.0\n",
        "\n",
        "        # Apply the quantum circuit to each element of the batch and append to q_out\n",
        "        q_out = torch.Tensor(0, n_qubits)\n",
        "        q_out = q_out.to(device)\n",
        "        for elem in q_in:\n",
        "            q_out_elem = quantum_net(elem, self.q_params).float().unsqueeze(0)\n",
        "            q_out = torch.cat((q_out, q_out_elem))\n",
        "\n",
        "        # return the two-dimensional prediction from the postprocessing layer\n",
        "        return self.post_net(q_out)"
      ]
    },
    {
      "cell_type": "code",
      "execution_count": 14,
      "id": "0821388e",
      "metadata": {
        "id": "0821388e"
      },
      "outputs": [],
      "source": [
        "model_hybrid = torchvision.models.resnet18(pretrained=True)\n",
        "\n",
        "for param in model_hybrid.parameters():\n",
        "    param.requires_grad = False\n",
        "\n",
        "# Notice that model_hybrid.fc is the last layer of ResNet18\n",
        "model_hybrid.fc = DressedQuantumNet()\n",
        "\n",
        "# Use CUDA or CPU according to the \"device\" object.\n",
        "model_hybrid = model_hybrid.to(device)"
      ]
    },
    {
      "cell_type": "code",
      "execution_count": 15,
      "id": "23e2e2c6",
      "metadata": {
        "id": "23e2e2c6"
      },
      "outputs": [],
      "source": [
        "criterion = nn.CrossEntropyLoss()"
      ]
    },
    {
      "cell_type": "code",
      "execution_count": 16,
      "id": "983a936c",
      "metadata": {
        "id": "983a936c"
      },
      "outputs": [],
      "source": [
        "optimizer_hybrid = optim.Adam(model_hybrid.fc.parameters(), lr=step)"
      ]
    },
    {
      "cell_type": "code",
      "execution_count": 17,
      "id": "82537ac2",
      "metadata": {
        "id": "82537ac2"
      },
      "outputs": [],
      "source": [
        "exp_lr_scheduler = lr_scheduler.StepLR(\n",
        "    optimizer_hybrid, step_size=13, gamma=gamma_lr_scheduler\n",
        ")"
      ]
    },
    {
      "cell_type": "code",
      "execution_count": 18,
      "id": "I739WNIFpPBq",
      "metadata": {
        "id": "I739WNIFpPBq"
      },
      "outputs": [],
      "source": [
        "train_loss, train_accuracy = [], []\n",
        "val_loss, val_accuracy = [], []"
      ]
    },
    {
      "cell_type": "code",
      "execution_count": 19,
      "id": "1afef74b",
      "metadata": {
        "id": "1afef74b"
      },
      "outputs": [],
      "source": [
        "def train_model(model, criterion, optimizer, scheduler, num_epochs):\n",
        "    since = time.time()\n",
        "    best_model_wts = copy.deepcopy(model.state_dict())\n",
        "    best_acc = 0.0\n",
        "    best_loss = 10000.0  # Large arbitrary number\n",
        "    best_acc_train = 0.0\n",
        "    best_loss_train = 10000.0  # Large arbitrary number\n",
        "    print(\"Training started:\")\n",
        "\n",
        "    for epoch in range(num_epochs):\n",
        "\n",
        "        # Each epoch has a training and validation phase\n",
        "        for phase in [\"train\", \"validation\"]:\n",
        "            if phase == \"train\":\n",
        "                # Set model to training mode\n",
        "                model.train()\n",
        "            else:\n",
        "                # Set model to evaluate mode\n",
        "                model.eval()\n",
        "            running_loss = 0.0\n",
        "            running_corrects = 0\n",
        "\n",
        "            # Iterate over data.\n",
        "            n_batches = dataset_sizes[phase] // batch_size\n",
        "            it = 0\n",
        "            for inputs, labels in dataloaders[phase]:\n",
        "                since_batch = time.time()\n",
        "                batch_size_ = len(inputs)\n",
        "                inputs = inputs.to(device)\n",
        "                labels = labels.to(device)\n",
        "                optimizer.zero_grad()\n",
        "\n",
        "                # Track/compute gradient and make an optimization step only when training\n",
        "                with torch.set_grad_enabled(phase == \"train\"):\n",
        "                    outputs = model(inputs)\n",
        "                    _, preds = torch.max(outputs, 1)\n",
        "                    loss = criterion(outputs, labels)\n",
        "                    if phase == \"train\":\n",
        "                        loss.backward()\n",
        "                        optimizer.step()\n",
        "\n",
        "                # Print iteration results\n",
        "                running_loss += loss.item() * batch_size_\n",
        "                batch_corrects = torch.sum(preds == labels.data).item()\n",
        "                running_corrects += batch_corrects\n",
        "                print(\n",
        "                    \"Phase: {} Epoch: {}/{} Iter: {}/{} Batch time: {:.4f}\".format(\n",
        "                        phase,\n",
        "                        epoch + 1,\n",
        "                        num_epochs,\n",
        "                        it + 1,\n",
        "                        n_batches + 1,\n",
        "                        time.time() - since_batch,\n",
        "                    ),\n",
        "                    end=\"\\r\",\n",
        "                    flush=True,\n",
        "                )\n",
        "                it += 1\n",
        "\n",
        "            # Print epoch results\n",
        "            epoch_loss = running_loss / dataset_sizes[phase]\n",
        "            epoch_acc = running_corrects / dataset_sizes[phase]\n",
        "            if phase == \"train\":\n",
        "              train_loss.append(epoch_loss)\n",
        "              train_accuracy.append(epoch_acc)\n",
        "            else:\n",
        "              val_loss.append(epoch_loss)\n",
        "              val_accuracy.append(epoch_acc)\n",
        "            print(\n",
        "                \"Phase: {} Epoch: {}/{} Loss: {:.4f} Acc: {:.4f}        \".format(\n",
        "                    \"train\" if phase == \"train\" else \"validation\",\n",
        "                    epoch + 1,\n",
        "                    num_epochs,\n",
        "                    epoch_loss,\n",
        "                    epoch_acc,\n",
        "                )\n",
        "            )\n",
        "\n",
        "            # Check if this is the best model wrt previous epochs\n",
        "            if phase == \"validation\" and epoch_acc > best_acc:\n",
        "                best_acc = epoch_acc\n",
        "                best_model_wts = copy.deepcopy(model.state_dict())\n",
        "            if phase == \"validation\" and epoch_loss < best_loss:\n",
        "                best_loss = epoch_loss\n",
        "            if phase == \"train\" and epoch_acc > best_acc_train:\n",
        "                best_acc_train = epoch_acc\n",
        "            if phase == \"train\" and epoch_loss < best_loss_train:\n",
        "                best_loss_train = epoch_loss\n",
        "\n",
        "            # Update learning rate\n",
        "            if phase == \"train\":\n",
        "                scheduler.step()\n",
        "\n",
        "    # Print final results\n",
        "    model.load_state_dict(best_model_wts)\n",
        "    time_elapsed = time.time() - since\n",
        "    print(\n",
        "        \"Training completed in {:.0f}m {:.0f}s\".format(time_elapsed // 60, time_elapsed % 60)\n",
        "    )\n",
        "    print(\"Best test loss: {:.4f} | Best test accuracy: {:.4f}\".format(best_loss, best_acc))\n",
        "    return model"
      ]
    },
    {
      "cell_type": "code",
      "execution_count": 20,
      "id": "d597c713",
      "metadata": {
        "colab": {
          "base_uri": "https://localhost:8080/"
        },
        "id": "d597c713",
        "outputId": "aacd027b-f42f-420e-aace-4d7d54e2cb3c"
      },
      "outputs": [
        {
          "name": "stdout",
          "output_type": "stream",
          "text": [
            "Training started:\n"
          ]
        },
        {
          "name": "stderr",
          "output_type": "stream",
          "text": [
            "/usr/local/lib/python3.7/dist-packages/torch/autograd/__init__.py:175: UserWarning: Casting complex values to real discards the imaginary part (Triggered internally at  ../aten/src/ATen/native/Copy.cpp:239.)\n",
            "  allow_unreachable=True, accumulate_grad=True)  # Calls into the C++ engine to run the backward pass\n"
          ]
        },
        {
          "name": "stdout",
          "output_type": "stream",
          "text": [
            "Phase: train Epoch: 1/33 Loss: 1.8572 Acc: 0.2876        \n",
            "Phase: validation Epoch: 1/33 Loss: 1.6876 Acc: 0.3558        \n",
            "Phase: train Epoch: 2/33 Loss: 1.5081 Acc: 0.5508        \n",
            "Phase: validation Epoch: 2/33 Loss: 1.3488 Acc: 0.6779        \n",
            "Phase: train Epoch: 3/33 Loss: 1.3334 Acc: 0.6447        \n",
            "Phase: validation Epoch: 3/33 Loss: 1.2183 Acc: 0.7356        \n",
            "Phase: train Epoch: 4/33 Loss: 1.1708 Acc: 0.7411        \n",
            "Phase: validation Epoch: 4/33 Loss: 1.2245 Acc: 0.6731        \n",
            "Phase: train Epoch: 5/33 Loss: 1.2781 Acc: 0.6655        \n",
            "Phase: validation Epoch: 5/33 Loss: 1.0829 Acc: 0.7788        \n",
            "Phase: train Epoch: 6/33 Loss: 1.0618 Acc: 0.7402        \n",
            "Phase: validation Epoch: 6/33 Loss: 1.0545 Acc: 0.7212        \n",
            "Phase: train Epoch: 7/33 Loss: 1.0332 Acc: 0.6811        \n",
            "Phase: validation Epoch: 7/33 Loss: 0.9458 Acc: 0.8077        \n",
            "Phase: train Epoch: 8/33 Loss: 0.8713 Acc: 0.7941        \n",
            "Phase: validation Epoch: 8/33 Loss: 0.9171 Acc: 0.7981        \n",
            "Phase: train Epoch: 9/33 Loss: 0.8146 Acc: 0.8115        \n",
            "Phase: validation Epoch: 9/33 Loss: 0.8937 Acc: 0.7548        \n",
            "Phase: train Epoch: 10/33 Loss: 0.8883 Acc: 0.7576        \n",
            "Phase: validation Epoch: 10/33 Loss: 0.8456 Acc: 0.7981        \n",
            "Phase: train Epoch: 11/33 Loss: 0.7720 Acc: 0.8080        \n",
            "Phase: validation Epoch: 11/33 Loss: 0.9515 Acc: 0.6875        \n",
            "Phase: train Epoch: 12/33 Loss: 0.9305 Acc: 0.6916        \n",
            "Phase: validation Epoch: 12/33 Loss: 0.7840 Acc: 0.7981        \n",
            "Phase: train Epoch: 13/33 Loss: 0.8492 Acc: 0.7559        \n",
            "Phase: validation Epoch: 13/33 Loss: 0.7791 Acc: 0.7981        \n",
            "Phase: train Epoch: 14/33 Loss: 0.6786 Acc: 0.8106        \n",
            "Phase: validation Epoch: 14/33 Loss: 0.7834 Acc: 0.7788        \n",
            "Phase: train Epoch: 15/33 Loss: 0.6451 Acc: 0.8323        \n",
            "Phase: validation Epoch: 15/33 Loss: 0.7937 Acc: 0.7740        \n",
            "Phase: train Epoch: 16/33 Loss: 0.6709 Acc: 0.8202        \n",
            "Phase: validation Epoch: 16/33 Loss: 0.7566 Acc: 0.8029        \n",
            "Phase: train Epoch: 17/33 Loss: 0.6477 Acc: 0.8280        \n",
            "Phase: validation Epoch: 17/33 Loss: 0.7835 Acc: 0.7837        \n",
            "Phase: train Epoch: 18/33 Loss: 0.6617 Acc: 0.8280        \n",
            "Phase: validation Epoch: 18/33 Loss: 0.7739 Acc: 0.7837        \n",
            "Phase: train Epoch: 19/33 Loss: 0.6741 Acc: 0.8245        \n",
            "Phase: validation Epoch: 19/33 Loss: 0.7996 Acc: 0.7740        \n",
            "Phase: train Epoch: 20/33 Loss: 0.6495 Acc: 0.8245        \n",
            "Phase: validation Epoch: 20/33 Loss: 0.7759 Acc: 0.7740        \n",
            "Phase: train Epoch: 21/33 Loss: 0.6584 Acc: 0.8123        \n",
            "Phase: validation Epoch: 21/33 Loss: 0.8060 Acc: 0.7788        \n",
            "Phase: train Epoch: 22/33 Loss: 0.6218 Acc: 0.8341        \n",
            "Phase: validation Epoch: 22/33 Loss: 0.7575 Acc: 0.7933        \n",
            "Phase: train Epoch: 23/33 Loss: 0.6496 Acc: 0.8167        \n",
            "Phase: validation Epoch: 23/33 Loss: 0.7492 Acc: 0.7885        \n",
            "Phase: train Epoch: 24/33 Loss: 0.6361 Acc: 0.8297        \n",
            "Phase: validation Epoch: 24/33 Loss: 0.7907 Acc: 0.7692        \n",
            "Phase: train Epoch: 25/33 Loss: 0.6543 Acc: 0.8280        \n",
            "Phase: validation Epoch: 25/33 Loss: 0.7624 Acc: 0.7837        \n",
            "Phase: train Epoch: 26/33 Loss: 0.6508 Acc: 0.8202        \n",
            "Phase: validation Epoch: 26/33 Loss: 0.7728 Acc: 0.7837        \n",
            "Phase: train Epoch: 27/33 Loss: 0.6356 Acc: 0.8332        \n",
            "Phase: validation Epoch: 27/33 Loss: 0.7804 Acc: 0.7692        \n",
            "Phase: train Epoch: 28/33 Loss: 0.6277 Acc: 0.8288        \n",
            "Phase: validation Epoch: 28/33 Loss: 0.7832 Acc: 0.7692        \n",
            "Phase: train Epoch: 29/33 Loss: 0.6218 Acc: 0.8367        \n",
            "Phase: validation Epoch: 29/33 Loss: 0.8183 Acc: 0.7788        \n",
            "Phase: train Epoch: 30/33 Loss: 0.6224 Acc: 0.8358        \n",
            "Phase: validation Epoch: 30/33 Loss: 0.7718 Acc: 0.7837        \n",
            "Phase: train Epoch: 31/33 Loss: 0.6448 Acc: 0.8245        \n",
            "Phase: validation Epoch: 31/33 Loss: 0.7584 Acc: 0.7837        \n",
            "Phase: train Epoch: 32/33 Loss: 0.6397 Acc: 0.8245        \n",
            "Phase: validation Epoch: 32/33 Loss: 0.7729 Acc: 0.7885        \n",
            "Phase: train Epoch: 33/33 Loss: 0.6340 Acc: 0.8219        \n",
            "Phase: validation Epoch: 33/33 Loss: 0.7861 Acc: 0.7740        \n",
            "Training completed in 99m 55s\n",
            "Best test loss: 0.7492 | Best test accuracy: 0.8077\n"
          ]
        }
      ],
      "source": [
        "model_hybrid = train_model(\n",
        "    model_hybrid, criterion, optimizer_hybrid, exp_lr_scheduler, num_epochs=num_epochs\n",
        ")"
      ]
    },
    {
      "cell_type": "code",
      "execution_count": 22,
      "id": "dnaNiWDoqEHd",
      "metadata": {
        "colab": {
          "base_uri": "https://localhost:8080/",
          "height": 225
        },
        "id": "dnaNiWDoqEHd",
        "outputId": "8596acb3-1121-471c-ec4d-87f3dee8c390"
      },
      "outputs": [
        {
          "data": {
            "image/png": "[encoded data removed]",
            "text/plain": [
              "<Figure size 360x194.4 with 1 Axes>"
            ]
          },
          "metadata": {
            "needs_background": "light"
          },
          "output_type": "display_data"
        }
      ],
      "source": [
        "plt.figure(figsize=(5, 2.7))\n",
        "plt.plot([i for i in range(1, num_epochs + 1)], train_loss, label='Train')\n",
        "plt.plot([i for i in range(1, num_epochs + 1)], val_loss, label='Val')\n",
        "plt.xlabel('Number of Epochs')\n",
        "plt.ylabel('Loss')\n",
        "plt.title(\"Loss Comparison\")\n",
        "plt.legend()"
      ]
    },
    {
      "cell_type": "code",
      "execution_count": 23,
      "id": "EOrNjJBIq43P",
      "metadata": {
        "colab": {
          "base_uri": "https://localhost:8080/",
          "height": 225
        },
        "id": "EOrNjJBIq43P",
        "outputId": "70375dc9-a8cc-4e4b-dec9-17780182a51c"
      },
      "outputs": [
        {
          "data": {
            "image/png": "[encoded data removed]",
            "text/plain": [
              "<Figure size 360x194.4 with 1 Axes>"
            ]
          },
          "metadata": {
            "needs_background": "light"
          },
          "output_type": "display_data"
        }
      ],
      "source": [
        "plt.figure(figsize=(5, 2.7))\n",
        "plt.plot([i for i in range(1, num_epochs + 1)], train_accuracy, label='Train')\n",
        "plt.plot([i for i in range(1, num_epochs + 1)], val_accuracy, label='Val') \n",
        "plt.xlabel('Number of Epochs')\n",
        "plt.ylabel('Accuracy')\n",
        "plt.title(\"Accuracy Comparison\")\n",
        "plt.legend();"
      ]
    },
    {
      "cell_type": "code",
      "execution_count": 24,
      "id": "2a139345",
      "metadata": {
        "id": "2a139345"
      },
      "outputs": [],
      "source": [
        "def visualize_model(model, num_images=10, fig_name=\"Predictions\"):\n",
        "    images_so_far = 0\n",
        "    _fig = plt.figure(fig_name)\n",
        "    model.eval()\n",
        "    with torch.no_grad():\n",
        "        for _i, (inputs, labels) in enumerate(dataloaders[\"validation\"]):\n",
        "            inputs = inputs.to(device)\n",
        "            labels = labels.to(device)\n",
        "            outputs = model(inputs)\n",
        "            _, preds = torch.max(outputs, 1)\n",
        "            for j in range(inputs.size()[0]):\n",
        "                images_so_far += 1\n",
        "                ax = plt.subplot(num_images // 1, 1, images_so_far)\n",
        "                ax.axis(\"off\")\n",
        "                ax.set_title(f\"Pred = {class_names[preds[j]]}, Actual = {class_names[labels[j]]}\")\n",
        "                imshow(inputs.cpu().data[j])\n",
        "                if images_so_far == num_images:\n",
        "                    return"
      ]
    },
    {
      "cell_type": "code",
      "execution_count": 25,
      "id": "025ac14e",
      "metadata": {
        "colab": {
          "base_uri": "https://localhost:8080/",
          "height": 264
        },
        "id": "025ac14e",
        "outputId": "399cd2c3-ffd5-4cc7-dd68-d1bda7290362"
      },
      "outputs": [
        {
          "data": {
            "image/png": "[encoded data removed]",
            "text/plain": [
              "<Figure size 432x288 with 10 Axes>"
            ]
          },
          "metadata": {
            "needs_background": "light"
          },
          "output_type": "display_data"
        }
      ],
      "source": [
        "visualize_model(model_hybrid, num_images=10)\n",
        "plt.show()"
      ]
    },
    {
      "cell_type": "code",
      "execution_count": 26,
      "id": "ZaiWMrWNx3Dy",
      "metadata": {
        "id": "ZaiWMrWNx3Dy"
      },
      "outputs": [],
      "source": [
        "torch.save(model_hybrid.state_dict(), './model_hybrid.pt')"
      ]
    },
    {
      "cell_type": "code",
      "execution_count": 27,
      "id": "ZzITbSt_2amf",
      "metadata": {
        "colab": {
          "base_uri": "https://localhost:8080/"
        },
        "id": "ZzITbSt_2amf",
        "outputId": "fcfab2d6-020f-4ff2-97d7-3cf6a97c0e9f"
      },
      "outputs": [
        {
          "name": "stdout",
          "output_type": "stream",
          "text": [
            "----------------------------------------------------------------\n",
            "        Layer (type)               Output Shape         Param #\n",
            "================================================================\n",
            "            Conv2d-1         [-1, 64, 128, 128]           9,408\n",
            "       BatchNorm2d-2         [-1, 64, 128, 128]             128\n",
            "              ReLU-3         [-1, 64, 128, 128]               0\n",
            "         MaxPool2d-4           [-1, 64, 64, 64]               0\n",
            "            Conv2d-5           [-1, 64, 64, 64]          36,864\n",
            "       BatchNorm2d-6           [-1, 64, 64, 64]             128\n",
            "              ReLU-7           [-1, 64, 64, 64]               0\n",
            "            Conv2d-8           [-1, 64, 64, 64]          36,864\n",
            "       BatchNorm2d-9           [-1, 64, 64, 64]             128\n",
            "             ReLU-10           [-1, 64, 64, 64]               0\n",
            "       BasicBlock-11           [-1, 64, 64, 64]               0\n",
            "           Conv2d-12           [-1, 64, 64, 64]          36,864\n",
            "      BatchNorm2d-13           [-1, 64, 64, 64]             128\n",
            "             ReLU-14           [-1, 64, 64, 64]               0\n",
            "           Conv2d-15           [-1, 64, 64, 64]          36,864\n",
            "      BatchNorm2d-16           [-1, 64, 64, 64]             128\n",
            "             ReLU-17           [-1, 64, 64, 64]               0\n",
            "       BasicBlock-18           [-1, 64, 64, 64]               0\n",
            "           Conv2d-19          [-1, 128, 32, 32]          73,728\n",
            "      BatchNorm2d-20          [-1, 128, 32, 32]             256\n",
            "             ReLU-21          [-1, 128, 32, 32]               0\n",
            "           Conv2d-22          [-1, 128, 32, 32]         147,456\n",
            "      BatchNorm2d-23          [-1, 128, 32, 32]             256\n",
            "           Conv2d-24          [-1, 128, 32, 32]           8,192\n",
            "      BatchNorm2d-25          [-1, 128, 32, 32]             256\n",
            "             ReLU-26          [-1, 128, 32, 32]               0\n",
            "       BasicBlock-27          [-1, 128, 32, 32]               0\n",
            "           Conv2d-28          [-1, 128, 32, 32]         147,456\n",
            "      BatchNorm2d-29          [-1, 128, 32, 32]             256\n",
            "             ReLU-30          [-1, 128, 32, 32]               0\n",
            "           Conv2d-31          [-1, 128, 32, 32]         147,456\n",
            "      BatchNorm2d-32          [-1, 128, 32, 32]             256\n",
            "             ReLU-33          [-1, 128, 32, 32]               0\n",
            "       BasicBlock-34          [-1, 128, 32, 32]               0\n",
            "           Conv2d-35          [-1, 256, 16, 16]         294,912\n",
            "      BatchNorm2d-36          [-1, 256, 16, 16]             512\n",
            "             ReLU-37          [-1, 256, 16, 16]               0\n",
            "           Conv2d-38          [-1, 256, 16, 16]         589,824\n",
            "      BatchNorm2d-39          [-1, 256, 16, 16]             512\n",
            "           Conv2d-40          [-1, 256, 16, 16]          32,768\n",
            "      BatchNorm2d-41          [-1, 256, 16, 16]             512\n",
            "             ReLU-42          [-1, 256, 16, 16]               0\n",
            "       BasicBlock-43          [-1, 256, 16, 16]               0\n",
            "           Conv2d-44          [-1, 256, 16, 16]         589,824\n",
            "      BatchNorm2d-45          [-1, 256, 16, 16]             512\n",
            "             ReLU-46          [-1, 256, 16, 16]               0\n",
            "           Conv2d-47          [-1, 256, 16, 16]         589,824\n",
            "      BatchNorm2d-48          [-1, 256, 16, 16]             512\n",
            "             ReLU-49          [-1, 256, 16, 16]               0\n",
            "       BasicBlock-50          [-1, 256, 16, 16]               0\n",
            "           Conv2d-51            [-1, 512, 8, 8]       1,179,648\n",
            "      BatchNorm2d-52            [-1, 512, 8, 8]           1,024\n",
            "             ReLU-53            [-1, 512, 8, 8]               0\n",
            "           Conv2d-54            [-1, 512, 8, 8]       2,359,296\n",
            "      BatchNorm2d-55            [-1, 512, 8, 8]           1,024\n",
            "           Conv2d-56            [-1, 512, 8, 8]         131,072\n",
            "      BatchNorm2d-57            [-1, 512, 8, 8]           1,024\n",
            "             ReLU-58            [-1, 512, 8, 8]               0\n",
            "       BasicBlock-59            [-1, 512, 8, 8]               0\n",
            "           Conv2d-60            [-1, 512, 8, 8]       2,359,296\n",
            "      BatchNorm2d-61            [-1, 512, 8, 8]           1,024\n",
            "             ReLU-62            [-1, 512, 8, 8]               0\n",
            "           Conv2d-63            [-1, 512, 8, 8]       2,359,296\n",
            "      BatchNorm2d-64            [-1, 512, 8, 8]           1,024\n",
            "             ReLU-65            [-1, 512, 8, 8]               0\n",
            "       BasicBlock-66            [-1, 512, 8, 8]               0\n",
            "AdaptiveAvgPool2d-67            [-1, 512, 1, 1]               0\n",
            "           Linear-68                    [-1, 6]           3,078\n",
            "           Linear-69                    [-1, 8]              56\n",
            "DressedQuantumNet-70                    [-1, 8]               0\n",
            "================================================================\n",
            "Total params: 11,179,646\n",
            "Trainable params: 3,134\n",
            "Non-trainable params: 11,176,512\n",
            "----------------------------------------------------------------\n",
            "Input size (MB): 0.74\n",
            "Forward/backward pass size (MB): 82.00\n",
            "Params size (MB): 42.65\n",
            "Estimated Total Size (MB): 125.40\n",
            "----------------------------------------------------------------\n"
          ]
        }
      ],
      "source": [
        "summary(model_hybrid, (3,255,255))"
      ]
    },
    {
      "cell_type": "code",
      "execution_count": null,
      "id": "M60Eczwvdimi",
      "metadata": {
        "id": "M60Eczwvdimi"
      },
      "outputs": [],
      "source": []
    }
  ],
  "metadata": {
    "accelerator": "GPU",
    "colab": {
      "collapsed_sections": [],
      "name": "main.ipynb",
      "provenance": []
    },
    "kernelspec": {
      "display_name": "Python 3 (ipykernel)",
      "language": "python",
      "name": "python3"
    },
    "language_info": {
      "codemirror_mode": {
        "name": "ipython",
        "version": 3
      },
      "file_extension": ".py",
      "mimetype": "text/x-python",
      "name": "python",
      "nbconvert_exporter": "python",
      "pygments_lexer": "ipython3",
      "version": "3.10.4"
    }
  },
  "nbformat": 4,
  "nbformat_minor": 5
}
